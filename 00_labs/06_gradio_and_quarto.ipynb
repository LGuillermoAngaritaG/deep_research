{
 "cells": [
  {
   "cell_type": "markdown",
   "id": "8a5a43d4",
   "metadata": {},
   "source": [
    "# Basic UI"
   ]
  },
  {
   "cell_type": "code",
   "execution_count": null,
   "id": "cf00e0c0",
   "metadata": {
    "vscode": {
     "languageId": "plaintext"
    }
   },
   "outputs": [],
   "source": []
  },
  {
   "cell_type": "markdown",
   "id": "c054d599",
   "metadata": {},
   "source": [
    "# Different outputs"
   ]
  },
  {
   "cell_type": "markdown",
   "id": "05da5fbb",
   "metadata": {},
   "source": []
  }
 ],
 "metadata": {
  "language_info": {
   "name": "python"
  }
 },
 "nbformat": 4,
 "nbformat_minor": 5
}
