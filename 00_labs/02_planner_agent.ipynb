{
 "cells": [
  {
   "cell_type": "markdown",
   "id": "c70d638c",
   "metadata": {},
   "source": [
    "# Goal:"
   ]
  },
  {
   "cell_type": "markdown",
   "id": "1f8f8f08",
   "metadata": {},
   "source": [
    "Create a Planner Agent, this planner agent creates a plan for a given task and then hands over it to another agent to execute the plan."
   ]
  },
  {
   "cell_type": "markdown",
   "id": "fddbf310",
   "metadata": {},
   "source": [
    "# Define LLM Connection"
   ]
  },
  {
   "cell_type": "markdown",
   "id": "1d622f48",
   "metadata": {},
   "source": [
    "We define the LLM"
   ]
  },
  {
   "cell_type": "code",
   "execution_count": 14,
   "id": "1fc3109b",
   "metadata": {},
   "outputs": [],
   "source": [
    "from pydantic_settings import BaseSettings\n",
    "import os\n",
    "import logging\n",
    "logging.basicConfig(\n",
    "    level=logging.INFO,\n",
    "    format='%(asctime)s - %(name)s - %(levelname)s - %(message)s'\n",
    ")\n",
    "logger = logging.getLogger(\"planner_agent\")\n",
    "\n",
    "class Settings(BaseSettings):\n",
    "    GOOGLE_API_KEY: str\n",
    "    MODEL_NAME: str\n",
    "    CONTEXT7_API_KEY: str\n",
    "    class Config:\n",
    "        #ignore extra fields\n",
    "        extra = \"ignore\"\n",
    "        env_file = \".env\"\n",
    "\n",
    "settings = Settings()\n",
    "os.environ[\"GOOGLE_API_KEY\"] = settings.GOOGLE_API_KEY"
   ]
  },
  {
   "cell_type": "markdown",
   "id": "7d914b72",
   "metadata": {},
   "source": [
    "# Define Agent"
   ]
  },
  {
   "cell_type": "markdown",
   "id": "ee50a1b6",
   "metadata": {},
   "source": [
    "We define the Planer Agent with structured output and system prompt"
   ]
  },
  {
   "cell_type": "code",
   "execution_count": 2,
   "id": "4fb186cf",
   "metadata": {},
   "outputs": [],
   "source": [
    "from pydantic_ai import Agent\n",
    "from pydantic import BaseModel, Field\n",
    "  \n",
    "class PlanOutput(BaseModel):\n",
    "    outline: str = Field(description=\"The outline of the report\")\n",
    "\n",
    "planning_agent = Agent(\n",
    "    model=settings.MODEL_NAME,\n",
    "    system_prompt=\"\"\"You are a planning assistant. Your Job is to create an outline for a report for an user. You have access to tools to help you answer questions.\n",
    "1. Assess which tool you should use to answer the question.\n",
    "2. Use get_human_in_the_loop to get user input in case of ambiguity. Provide your question.\n",
    "3. Use create_plan to create a plan based on what you understand about what the user is asking for. The default outline is the following:\n",
    "    - Summary \n",
    "    - Introduction\n",
    "    - Sections and subsections\n",
    "    - Conclusion\n",
    "    - References\n",
    "4. If you think the question is too complex or not relevant, first use get_human_in_the_loop to get user input. if user input is ambiguous, then respond with 'I don't know how to help you with that'.\n",
    "5. After making the plan, use human_in_the_loop to ask the user if the plan looks good, if the user asks for changes, use_create_plan with the changes made by the user. If the user is happy with the plan, respond with the final plan.\n",
    "\"\"\",\n",
    "    output_type=PlanOutput\n",
    ")"
   ]
  },
  {
   "cell_type": "markdown",
   "id": "e544d116",
   "metadata": {},
   "source": [
    "# Define Tools"
   ]
  },
  {
   "cell_type": "markdown",
   "id": "899ae55b",
   "metadata": {},
   "source": [
    "We define 2 tools, one for planning and the other to include us in the loop"
   ]
  },
  {
   "cell_type": "code",
   "execution_count": 3,
   "id": "4d894c6e",
   "metadata": {},
   "outputs": [],
   "source": [
    "from pydantic import BaseModel\n",
    "from pydantic_ai import RunContext\n",
    "\n",
    "# Human in the loop tool\n",
    "class GetHumanInTheLoopInput(BaseModel):\n",
    "    \"\"\"Input for getting more information\"\"\"\n",
    "    questions: str\n",
    "\n",
    "class GetHumanInTheLoopOutput(BaseModel):\n",
    "    \"\"\"Response for getting more information\"\"\"\n",
    "    answer: str\n",
    "    \n",
    "@planning_agent.tool\n",
    "def get_human_in_the_loop(_: RunContext[GetHumanInTheLoopInput], question: str) -> GetHumanInTheLoopOutput:\n",
    "    input_str = input(f\"Please provide your input for the question > '{question}': \")\n",
    "    return GetHumanInTheLoopOutput(answer=input_str)\n",
    "\n",
    "# Planning tool\n",
    "class GetPlanInput(BaseModel):\n",
    "    \"\"\"Input for getting a plan\"\"\"\n",
    "    instructions_for_plan: str\n",
    "\n",
    "class GetPlanOutput(BaseModel):\n",
    "    \"\"\"Response for getting a plan\"\"\"\n",
    "    plan: str\n",
    "\n",
    "@planning_agent.tool\n",
    "async def get_plan(_: RunContext[GetPlanInput], instructions_for_plan: str) -> GetPlanOutput:\n",
    "    outline_agent = Agent(settings.MODEL_NAME,\n",
    "                instructions=\"You are an experienced planner for a research project, you will be given a query from the user and you need to make an outline of the report to give the user about it, and what to search for in the web in order to create the report\",\n",
    "                output_type=GetPlanOutput)\n",
    "    result = await outline_agent.run(instructions_for_plan)\n",
    "    return GetPlanOutput(plan=result.output.plan)\n"
   ]
  },
  {
   "cell_type": "markdown",
   "id": "3d0d009c",
   "metadata": {},
   "source": [
    "# Run the Planner Agent"
   ]
  },
  {
   "cell_type": "code",
   "execution_count": null,
   "id": "0617cf92",
   "metadata": {},
   "outputs": [
    {
     "name": "stdout",
     "output_type": "stream",
     "text": [
      "How to use pydantic-ai\n",
      "UserPromptNode(user_prompt='How to use pydantic-ai', instructions=None, instructions_functions=[], system_prompts=(\"You are a planning assistant. Your Job is to create an outline for a report for an user. You have access to tools to help you answer questions.\\n1. Assess which tool you should use to answer the question.\\n2. Use get_human_in_the_loop to get user input in case of ambiguity. Provide your question.\\n3. Use create_plan to create a plan based on what you understand about what the user is asking for. The default outline is the following:\\n    - Summary \\n    - Introduction\\n    - Sections and subsections\\n    - Conclusion\\n    - References\\n4. If you think the question is too complex or not relevant, first use get_human_in_the_loop to get user input. if user input is ambiguous, then respond with 'I don't know how to help you with that'.\\n5. After making the plan, use human_in_the_loop to ask the user if the plan looks good, if the user asks for changes, use_create_plan with the changes made by the user. If the user is happy with the plan, respond with the final plan.\\n\",), system_prompt_functions=[], system_prompt_dynamic_functions={})\n",
      "ModelRequestNode(request=ModelRequest(parts=[SystemPromptPart(content=\"You are a planning assistant. Your Job is to create an outline for a report for an user. You have access to tools to help you answer questions.\\n1. Assess which tool you should use to answer the question.\\n2. Use get_human_in_the_loop to get user input in case of ambiguity. Provide your question.\\n3. Use create_plan to create a plan based on what you understand about what the user is asking for. The default outline is the following:\\n    - Summary \\n    - Introduction\\n    - Sections and subsections\\n    - Conclusion\\n    - References\\n4. If you think the question is too complex or not relevant, first use get_human_in_the_loop to get user input. if user input is ambiguous, then respond with 'I don't know how to help you with that'.\\n5. After making the plan, use human_in_the_loop to ask the user if the plan looks good, if the user asks for changes, use_create_plan with the changes made by the user. If the user is happy with the plan, respond with the final plan.\\n\", timestamp=datetime.datetime(2025, 9, 3, 19, 26, 39, 740009, tzinfo=datetime.timezone.utc)), UserPromptPart(content='How to use pydantic-ai', timestamp=datetime.datetime(2025, 9, 3, 19, 26, 39, 740011, tzinfo=datetime.timezone.utc))]))\n",
      "CallToolsNode(model_response=ModelResponse(parts=[ToolCallPart(tool_name='get_plan', args={'instructions_for_plan': 'Create a report outline on \"How to use pydantic-ai\"'}, tool_call_id='pyd_ai_e4c867f4e1ea436daae2b2cd7639382f')], usage=RequestUsage(input_tokens=371, output_tokens=95, details={'thoughts_tokens': 62, 'text_prompt_tokens': 371}), model_name='gemini-2.5-flash', timestamp=datetime.datetime(2025, 9, 3, 19, 26, 41, 41271, tzinfo=datetime.timezone.utc), provider_name='google-gla', provider_details={'finish_reason': 'STOP'}, provider_response_id='cZa4aIHhBdPkqtsP5tfCAQ'))\n",
      "ModelRequestNode(request=ModelRequest(parts=[ToolReturnPart(tool_name='get_plan', content=GetPlanOutput(plan='Report Outline: How to use pydantic-ai\\n\\n1.  Introduction to pydantic-ai\\n    *   What is pydantic-ai?\\n    *   Why use pydantic-ai (benefits)?\\n    *   Relationship with Pydantic and AI models.\\n\\n2.  Setting up your environment\\n    *   Installation guide (pip install pydantic-ai).\\n    *   Basic dependencies.\\n\\n3.  Core Concepts of pydantic-ai\\n    *   Defining AI models with Pydantic.\\n    *   Input/Output validation for AI.\\n    *   Handling different data types (text, image, etc.) for AI inputs/outputs.\\n\\n4.  Practical Usage Examples\\n    *   Example 1: Simple text generation with an LLM\\n        *   Defining a Pydantic model for input prompt.\\n        *   Defining a Pydantic model for LLM output (e.g., generated text, sentiment).\\n        *   Integrating with a hypothetical LLM API (e.g., OpenAI, Hugging Face).\\n    *   Example 2: Image classification output validation\\n        *   Defining a Pydantic model for image classification results (e.g., class labels, probabilities).\\n        *   Handling potential errors or unexpected outputs.\\n    *   Example 3: Structured data extraction from unstructured text\\n        *   Defining a Pydantic model for the desired structured output.\\n        *   Using an LLM to extract data and validate it with pydantic-ai.\\n\\n5.  Advanced Topics\\n    *   Custom validators for AI outputs.\\n    *   Error handling and recovery strategies.\\n    *   Integrating with different AI frameworks/libraries.\\n    *   Performance considerations.\\n\\n6.  Best Practices\\n    *   Designing effective Pydantic models for AI.\\n    *   Testing AI model outputs with pydantic-ai.\\n    *   Versioning your AI models and schemas.\\n\\n7.  Conclusion\\n    *   Summary of key benefits.\\n    *   Future outlook for pydantic-ai.\\n\\nWeb Search Strategy:\\n*   \"pydantic-ai documentation\"\\n*   \"pydantic-ai github\"\\n*   \"pydantic-ai examples\"\\n*   \"how to use pydantic for AI model validation\"\\n*   \"structured output from LLMs with pydantic\"\\n*   \"pydantic for AI input output schema\"\\n*   \"pydantic-ai tutorial\"'), tool_call_id='pyd_ai_e4c867f4e1ea436daae2b2cd7639382f', timestamp=datetime.datetime(2025, 9, 3, 19, 26, 47, 355211, tzinfo=datetime.timezone.utc))]))\n",
      "CallToolsNode(model_response=ModelResponse(parts=[ToolCallPart(tool_name='get_human_in_the_loop', args={'question': 'Here is a draft outline for your report on \"How to use pydantic-ai\". Does this look good, or would you like any changes?\\n\\nReport Outline: How to use pydantic-ai\\n\\n1.  Introduction to pydantic-ai\\n    *   What is pydantic-ai?\\n    *   Why use pydantic-ai (benefits)?\\n    *   Relationship with Pydantic and AI models.\\n\\n2.  Setting up your environment\\n    *   Installation guide (pip install pydantic-ai).\\n    *   Basic dependencies.\\n\\n3.  Core Concepts of pydantic-ai\\n    *   Defining AI models with Pydantic.\\n    *   Input/Output validation for AI.\\n    *   Handling different data types (text, image, etc.) for AI inputs/outputs.\\n\\n4.  Practical Usage Examples\\n    *   Example 1: Simple text generation with an LLM\\n        *   Defining a Pydantic model for input prompt.\\n        *   Defining a Pydantic model for LLM output (e.g., generated text, sentiment).\\n        *   Integrating with a hypothetical LLM API (e.g., OpenAI, Hugging Face).\\n    *   Example 2: Image classification output validation\\n        *   Defining a Pydantic model for image classification results (e.g., class labels, probabilities).\\n        *   Handling potential errors or unexpected outputs.\\n    *   Example 3: Structured data extraction from unstructured text\\n        *   Defining a Pydantic model for the desired structured output.\\n        *   Using an LLM to extract data and validate it with pydantic-ai.\\n\\n5.  Advanced Topics\\n    *   Custom validators for AI outputs.\\n    *   Error handling and recovery strategies.\\n    *   Integrating with different AI frameworks/libraries.\\n    *   Performance considerations.\\n\\n6.  Best Practices\\n    *   Designing effective Pydantic models for AI.\\n    *   Testing AI model outputs with pydantic-ai.\\n    *   Versioning your AI models and schemas.\\n\\n7.  Conclusion\\n    *   Summary of key benefits.\\n    *   Future outlook for pydantic-ai.\\n\\nWeb Search Strategy:\\n*   \"pydantic-ai documentation\"\\n*   \"pydantic-ai github\"\\n*   \"pydantic-ai examples\"\\n*   \"how to use pydantic for AI model validation\"\\n*   \"structured output from LLMs with pydantic\"\\n*   \"pydantic for AI input output schema\"\\n*   \"pydantic-ai tutorial\"'}, tool_call_id='pyd_ai_d419580a8d534f5990d3ce37c9262255')], usage=RequestUsage(input_tokens=987, output_tokens=685, details={'thoughts_tokens': 68, 'text_prompt_tokens': 987}), model_name='gemini-2.5-flash', timestamp=datetime.datetime(2025, 9, 3, 19, 26, 50, 895550, tzinfo=datetime.timezone.utc), provider_name='google-gla', provider_details={'finish_reason': 'STOP'}, provider_response_id='epa4aJHSOfekmtkPoPWuqA0'))\n",
      "ModelRequestNode(request=ModelRequest(parts=[ToolReturnPart(tool_name='get_human_in_the_loop', content=GetHumanInTheLoopOutput(answer='no, I want to focus more on agents, and make the outline shorter'), tool_call_id='pyd_ai_d419580a8d534f5990d3ce37c9262255', timestamp=datetime.datetime(2025, 9, 3, 19, 27, 11, 752116, tzinfo=datetime.timezone.utc))]))\n",
      "CallToolsNode(model_response=ModelResponse(parts=[ToolCallPart(tool_name='get_plan', args={'instructions_for_plan': 'Create a shorter report outline on \"How to use pydantic-ai\" with a focus on AI agents. The outline should include:\\n- Introduction to pydantic-ai for AI Agents\\n- Setting Up and Core Concepts (installation, defining structured data for agents with Pydantic, input/output validation)\\n- pydantic-ai in Agent Development: Practical Examples (defining agent tools, validating agent reasoning and actions, handling agent observations and state)\\n- Advanced Considerations for Agent Reliability (custom validation, error handling, integration with agent frameworks)\\n- Conclusion'}, tool_call_id='pyd_ai_44045c9c297c4c6e8acf7f0e65b13f84')], usage=RequestUsage(input_tokens=1645, cache_read_tokens=906, output_tokens=809, details={'cached_content_tokens': 906, 'thoughts_tokens': 673, 'text_prompt_tokens': 1645, 'text_cache_tokens': 906}), model_name='gemini-2.5-flash', timestamp=datetime.datetime(2025, 9, 3, 19, 27, 17, 198034, tzinfo=datetime.timezone.utc), provider_name='google-gla', provider_details={'finish_reason': 'STOP'}, provider_response_id='lZa4aJGzD8DRz7IP5oTC6A4'))\n",
      "ModelRequestNode(request=ModelRequest(parts=[ToolReturnPart(tool_name='get_plan', content=GetPlanOutput(plan='Report Outline: How to Use Pydantic-AI for AI Agents\\n\\n1.  **Introduction to Pydantic-AI for AI Agents**\\n    *   Brief overview of Pydantic and its benefits.\\n    *   Introduction to `pydantic-ai` and its relevance in AI agent development.\\n    *   Why structured data and validation are crucial for reliable AI agents.\\n\\n2.  **Setting Up and Core Concepts**\\n    *   Installation of `pydantic-ai`.\\n    *   Defining structured data for agent inputs, outputs, and internal states using Pydantic models.\\n    *   Implementing input and output validation for agent interactions.\\n\\n3.  **Pydantic-AI in Agent Development: Practical Examples**\\n    *   **Defining Agent Tools:** Using Pydantic to describe tool interfaces (parameters, return types) for function calling.\\n    *   **Validating Agent Reasoning and Actions:** Ensuring agent-generated plans or actions conform to predefined structures.\\n    *   **Handling Agent Observations and State:** Structuring and validating data received from the environment or internal agent state.\\n\\n4.  **Advanced Considerations for Agent Reliability**\\n    *   Implementing custom validation logic for complex agent scenarios.\\n    *   Strategies for error handling and recovery when validation fails.\\n    *   Integration of `pydantic-ai` with popular agent frameworks (e.g., LangChain, LiteLLM, or custom frameworks).\\n\\n5.  **Conclusion**\\n    *   Recap of the benefits of using `pydantic-ai` for robust AI agent development.\\n    *   Future outlook and best practices.'), tool_call_id='pyd_ai_44045c9c297c4c6e8acf7f0e65b13f84', timestamp=datetime.datetime(2025, 9, 3, 19, 27, 19, 984180, tzinfo=datetime.timezone.utc))]))\n",
      "CallToolsNode(model_response=ModelResponse(parts=[ToolCallPart(tool_name='get_human_in_the_loop', args={'question': 'Here is a revised, shorter outline for your report on \"How to use pydantic-ai\" with a focus on AI agents. Does this look good, or would you like any further changes?\\n\\nReport Outline: How to Use Pydantic-AI for AI Agents\\n\\n1.  **Introduction to Pydantic-AI for AI Agents**\\n    *   Brief overview of Pydantic and its benefits.\\n    *   Introduction to `pydantic-ai` and its relevance in AI agent development.\\n    *   Why structured data and validation are crucial for reliable AI agents.\\n\\n2.  **Setting Up and Core Concepts**\\n    *   Installation of `pydantic-ai`.\\n    *   Defining structured data for agent inputs, outputs, and internal states using Pydantic models.\\n    *   Implementing input and output validation for agent interactions.\\n\\n3.  **Pydantic-AI in Agent Development: Practical Examples**\\n    *   **Defining Agent Tools:** Using Pydantic to describe tool interfaces (parameters, return types) for function calling.\\n    *   **Validating Agent Reasoning and Actions:** Ensuring agent-generated plans or actions conform to predefined structures.\\n    *   **Handling Agent Observations and State:** Structuring and validating data received from the environment or internal agent state.\\n\\n4.  **Advanced Considerations for Agent Reliability**\\n    *   Implementing custom validation logic for complex agent scenarios.\\n    *   Strategies for error handling and recovery when validation fails.\\n    *   Integration of `pydantic-ai` with popular agent frameworks (e.g., LangChain, LiteLLM, or custom frameworks).\\n\\n5.  **Conclusion**\\n    *   Recap of the benefits of using `pydantic-ai` for robust AI agent development.\\n    *   Future outlook and best practices.'}, tool_call_id='pyd_ai_0ff86ae2649d430e9240afecfc4748c9')], usage=RequestUsage(input_tokens=2162, cache_read_tokens=927, output_tokens=650, details={'cached_content_tokens': 927, 'thoughts_tokens': 225, 'text_prompt_tokens': 2162, 'text_cache_tokens': 927}), model_name='gemini-2.5-flash', timestamp=datetime.datetime(2025, 9, 3, 19, 27, 23, 472843, tzinfo=datetime.timezone.utc), provider_name='google-gla', provider_details={'finish_reason': 'STOP'}, provider_response_id='m5a4aLbVH-PRz7IP86OV4Ak'))\n",
      "ModelRequestNode(request=ModelRequest(parts=[ToolReturnPart(tool_name='get_human_in_the_loop', content=GetHumanInTheLoopOutput(answer='looks good'), tool_call_id='pyd_ai_0ff86ae2649d430e9240afecfc4748c9', timestamp=datetime.datetime(2025, 9, 3, 19, 27, 28, 962234, tzinfo=datetime.timezone.utc))]))\n",
      "CallToolsNode(model_response=ModelResponse(parts=[ToolCallPart(tool_name='final_result', args={'outline': 'Report Outline: How to Use Pydantic-AI for AI Agents\\n\\n1.  **Introduction to Pydantic-AI for AI Agents**\\n    *   Brief overview of Pydantic and its benefits.\\n    *   Introduction to `pydantic-ai` and its relevance in AI agent development.\\n    *   Why structured data and validation are crucial for reliable AI agents.\\n\\n2.  **Setting Up and Core Concepts**\\n    *   Installation of `pydantic-ai`.\\n    *   Defining structured data for agent inputs, outputs, and internal states using Pydantic models.\\n    *   Implementing input and output validation for agent interactions.\\n\\n3.  **Pydantic-AI in Agent Development: Practical Examples**\\n    *   **Defining Agent Tools:** Using Pydantic to describe tool interfaces (parameters, return types) for function calling.\\n    *   **Validating Agent Reasoning and Actions:** Ensuring agent-generated plans or actions conform to predefined structures.\\n    *   **Handling Agent Observations and State:** Structuring and validating data received from the environment or internal agent state.\\n\\n4.  **Advanced Considerations for Agent Reliability**\\n    *   Implementing custom validation logic for complex agent scenarios.\\n    *   Strategies for error handling and recovery when validation fails.\\n    *   Integration of `pydantic-ai` with popular agent frameworks (e.g., LangChain, LiteLLM, or custom frameworks).\\n\\n5.  **Conclusion**\\n    *   Recap of the benefits of using `pydantic-ai` for robust AI agent development.\\n    *   Future outlook and best practices.'}, tool_call_id='pyd_ai_8ab99449e87049b58ce5b1ef87d09ad3')], usage=RequestUsage(input_tokens=2615, cache_read_tokens=1877, output_tokens=399, details={'cached_content_tokens': 1877, 'thoughts_tokens': 24, 'text_prompt_tokens': 2615, 'text_cache_tokens': 1877}), model_name='gemini-2.5-flash', timestamp=datetime.datetime(2025, 9, 3, 19, 27, 31, 406640, tzinfo=datetime.timezone.utc), provider_name='google-gla', provider_details={'finish_reason': 'STOP'}, provider_response_id='o5a4aIz_G4WqmtkPiMmxwA8'))\n",
      "End(data=FinalResult(output=PlanOutput(outline='Report Outline: How to Use Pydantic-AI for AI Agents\\n\\n1.  **Introduction to Pydantic-AI for AI Agents**\\n    *   Brief overview of Pydantic and its benefits.\\n    *   Introduction to `pydantic-ai` and its relevance in AI agent development.\\n    *   Why structured data and validation are crucial for reliable AI agents.\\n\\n2.  **Setting Up and Core Concepts**\\n    *   Installation of `pydantic-ai`.\\n    *   Defining structured data for agent inputs, outputs, and internal states using Pydantic models.\\n    *   Implementing input and output validation for agent interactions.\\n\\n3.  **Pydantic-AI in Agent Development: Practical Examples**\\n    *   **Defining Agent Tools:** Using Pydantic to describe tool interfaces (parameters, return types) for function calling.\\n    *   **Validating Agent Reasoning and Actions:** Ensuring agent-generated plans or actions conform to predefined structures.\\n    *   **Handling Agent Observations and State:** Structuring and validating data received from the environment or internal agent state.\\n\\n4.  **Advanced Considerations for Agent Reliability**\\n    *   Implementing custom validation logic for complex agent scenarios.\\n    *   Strategies for error handling and recovery when validation fails.\\n    *   Integration of `pydantic-ai` with popular agent frameworks (e.g., LangChain, LiteLLM, or custom frameworks).\\n\\n5.  **Conclusion**\\n    *   Recap of the benefits of using `pydantic-ai` for robust AI agent development.\\n    *   Future outlook and best practices.'), tool_name='final_result', tool_call_id='pyd_ai_8ab99449e87049b58ce5b1ef87d09ad3'))\n"
     ]
    }
   ],
   "source": [
    "user_request = \"How to use pydantic-ai\"\n",
    "print(user_request)\n",
    "# result = await planning_agent.run(user_request)\n",
    "\n",
    "def helper_function_for_agent_run(agent: Agent, input_prompt: str):\n",
    "\n",
    "    nodes = []\n",
    "    async with planning_agent.iter(\n",
    "        user_request,\n",
    "    ) as agent_run:\n",
    "        async for node in agent_run:\n",
    "            # Each node represents a step in the agent's execution\n",
    "            print(node)\n",
    "            nodes.append(node)"
   ]
  },
  {
   "cell_type": "markdown",
   "id": "e8110aa8",
   "metadata": {},
   "source": [
    "# Display Results"
   ]
  },
  {
   "cell_type": "code",
   "execution_count": 26,
   "id": "80570c1d",
   "metadata": {},
   "outputs": [
    {
     "name": "stdout",
     "output_type": "stream",
     "text": [
      "Report Outline: How to Use Pydantic-AI for AI Agents\n",
      "\n",
      "1.  **Introduction to Pydantic-AI for AI Agents**\n",
      "    *   Brief overview of Pydantic and its benefits.\n",
      "    *   Introduction to `pydantic-ai` and its relevance in AI agent development.\n",
      "    *   Why structured data and validation are crucial for reliable AI agents.\n",
      "\n",
      "2.  **Setting Up and Core Concepts**\n",
      "    *   Installation of `pydantic-ai`.\n",
      "    *   Defining structured data for agent inputs, outputs, and internal states using Pydantic models.\n",
      "    *   Implementing input and output validation for agent interactions.\n",
      "\n",
      "3.  **Pydantic-AI in Agent Development: Practical Examples**\n",
      "    *   **Defining Agent Tools:** Using Pydantic to describe tool interfaces (parameters, return types) for function calling.\n",
      "    *   **Validating Agent Reasoning and Actions:** Ensuring agent-generated plans or actions conform to predefined structures.\n",
      "    *   **Handling Agent Observations and State:** Structuring and validating data received from the environment or internal agent state.\n",
      "\n",
      "4.  **Advanced Considerations for Agent Reliability**\n",
      "    *   Implementing custom validation logic for complex agent scenarios.\n",
      "    *   Strategies for error handling and recovery when validation fails.\n",
      "    *   Integration of `pydantic-ai` with popular agent frameworks (e.g., LangChain, LiteLLM, or custom frameworks).\n",
      "\n",
      "5.  **Conclusion**\n",
      "    *   Recap of the benefits of using `pydantic-ai` for robust AI agent development.\n",
      "    *   Future outlook and best practices.\n"
     ]
    }
   ],
   "source": [
    "print(nodes[-1].data.output.outline)"
   ]
  },
  {
   "cell_type": "markdown",
   "id": "751b62f8",
   "metadata": {},
   "source": [
    "## Conclusion\n",
    "\n",
    "In this notebook, we demonstrated how to create a sophisticated **Planner Agent** that can create structured plans for complex tasks:\n",
    "\n",
    "### Key Takeaways\n",
    "\n",
    "1. **Agent Coordination**: Built a planner agent that creates plans and hands them off to other agents for execution\n",
    "2. **Human-in-the-Loop**: Implemented interactive tools that allow the agent to ask clarifying questions when faced with ambiguous requests\n",
    "3. **Nested Agent Architecture**: Created a planning tool that internally uses another specialized agent for outline generation\n",
    "4. **Structured Planning Output**: Used Pydantic models to ensure plans are returned in a consistent, well-defined format\n",
    "5. **Interactive Planning Process**: Demonstrated how agents can engage users to refine requirements before creating detailed plans\n",
    "\n",
    "### What We Learned\n",
    "\n",
    "- **Agent Specialization**: Different agents can be designed for specific tasks (planning vs. execution)\n",
    "- **Interactive Decision Making**: Agents can pause execution to gather more information from users\n",
    "- **Hierarchical Agent Systems**: Agents can create and coordinate with other agents to accomplish complex tasks\n",
    "- **Structured Communication**: Pydantic models ensure reliable data exchange between agents and users\n",
    "- **Adaptive Planning**: The agent can adjust its planning approach based on user input and clarification\n",
    "\n",
    "### The Planning Process Demonstrated\n",
    "\n",
    "1. **Assessment**: Agent evaluates the complexity and clarity of the user request\n",
    "2. **Clarification**: Uses human-in-the-loop tool to resolve ambiguities\n",
    "3. **Plan Generation**: Creates a detailed, structured outline using a specialized planning sub-agent\n",
    "4. **Structured Output**: Returns the plan in a well-defined format ready for execution\n",
    "\n",
    "This planner agent pattern is essential for building reliable AI systems that can handle complex, multi-step tasks while maintaining user control and transparency in the planning process.\n"
   ]
  }
 ],
 "metadata": {
  "kernelspec": {
   "display_name": ".venv",
   "language": "python",
   "name": "python3"
  },
  "language_info": {
   "codemirror_mode": {
    "name": "ipython",
    "version": 3
   },
   "file_extension": ".py",
   "mimetype": "text/x-python",
   "name": "python",
   "nbconvert_exporter": "python",
   "pygments_lexer": "ipython3",
   "version": "3.12.11"
  }
 },
 "nbformat": 4,
 "nbformat_minor": 5
}
